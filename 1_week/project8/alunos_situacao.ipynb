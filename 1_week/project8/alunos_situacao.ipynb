{
 "cells": [
  {
   "cell_type": "markdown",
   "metadata": {},
   "source": [
    "# Programa princiapal:"
   ]
  },
  {
   "cell_type": "code",
   "execution_count": 13,
   "metadata": {},
   "outputs": [
    {
     "data": {
      "text/html": [
       "<div>\n",
       "<style scoped>\n",
       "    .dataframe tbody tr th:only-of-type {\n",
       "        vertical-align: middle;\n",
       "    }\n",
       "\n",
       "    .dataframe tbody tr th {\n",
       "        vertical-align: top;\n",
       "    }\n",
       "\n",
       "    .dataframe thead th {\n",
       "        text-align: right;\n",
       "    }\n",
       "</style>\n",
       "<table border=\"1\" class=\"dataframe\">\n",
       "  <thead>\n",
       "    <tr style=\"text-align: right;\">\n",
       "      <th></th>\n",
       "      <th>Nome do Aluno</th>\n",
       "      <th>Nota 1</th>\n",
       "      <th>Nota 2</th>\n",
       "      <th>Faltas</th>\n",
       "      <th>Média</th>\n",
       "      <th>Situação</th>\n",
       "    </tr>\n",
       "  </thead>\n",
       "  <tbody>\n",
       "    <tr>\n",
       "      <th>0</th>\n",
       "      <td>Paulo</td>\n",
       "      <td>7</td>\n",
       "      <td>7</td>\n",
       "      <td>1</td>\n",
       "      <td>7.0</td>\n",
       "      <td>Aprovado</td>\n",
       "    </tr>\n",
       "    <tr>\n",
       "      <th>1</th>\n",
       "      <td>Maria</td>\n",
       "      <td>3</td>\n",
       "      <td>10</td>\n",
       "      <td>7</td>\n",
       "      <td>6.5</td>\n",
       "      <td>Reprovado</td>\n",
       "    </tr>\n",
       "    <tr>\n",
       "      <th>2</th>\n",
       "      <td>João</td>\n",
       "      <td>9</td>\n",
       "      <td>4</td>\n",
       "      <td>2</td>\n",
       "      <td>6.5</td>\n",
       "      <td>Reprovado</td>\n",
       "    </tr>\n",
       "    <tr>\n",
       "      <th>3</th>\n",
       "      <td>Carla</td>\n",
       "      <td>10</td>\n",
       "      <td>6</td>\n",
       "      <td>9</td>\n",
       "      <td>8.0</td>\n",
       "      <td>Reprovado</td>\n",
       "    </tr>\n",
       "  </tbody>\n",
       "</table>\n",
       "</div>"
      ],
      "text/plain": [
       "  Nome do Aluno  Nota 1  Nota 2  Faltas  Média   Situação\n",
       "0         Paulo       7       7       1    7.0   Aprovado\n",
       "1         Maria       3      10       7    6.5  Reprovado\n",
       "2          João       9       4       2    6.5  Reprovado\n",
       "3         Carla      10       6       9    8.0  Reprovado"
      ]
     },
     "metadata": {},
     "output_type": "display_data"
    }
   ],
   "source": [
    "import pandas as pd\n",
    "\n",
    "notas_df = pd.read_csv('notas_alunos.csv')\n",
    "\n",
    "notas_df['Média'] = (notas_df['Nota 1'] + notas_df['Nota 2']) / 2\n",
    "notas_df.loc[:, 'Situação'] = '-'\n",
    "\n",
    "media = notas_df['Média']\n",
    "faltas = notas_df['Faltas']\n",
    "\n",
    "notas_df.loc[notas_df['Média'] >= 7, 'Situação'] = 'Aprovado'\n",
    "notas_df.loc[notas_df['Média'] < 7, 'Situação'] = 'Reprovado'\n",
    "notas_df.loc[notas_df['Faltas'] >= 5, 'Situação'] = 'Reprovado'\n",
    "\n",
    "display(notas_df)"
   ]
  },
  {
   "cell_type": "markdown",
   "metadata": {},
   "source": [
    "## O maior número de faltas:"
   ]
  },
  {
   "cell_type": "code",
   "execution_count": 14,
   "metadata": {},
   "outputs": [
    {
     "name": "stdout",
     "output_type": "stream",
     "text": [
      "o maior número de faltas: 9\n"
     ]
    }
   ],
   "source": [
    "maior_falta = notas_df['Faltas'].max()\n",
    "\n",
    "print(f\"o maior número de faltas: {maior_falta}\")"
   ]
  },
  {
   "cell_type": "markdown",
   "metadata": {},
   "source": [
    "## A média geral dos alunos:"
   ]
  },
  {
   "cell_type": "code",
   "execution_count": 15,
   "metadata": {},
   "outputs": [
    {
     "name": "stdout",
     "output_type": "stream",
     "text": [
      "a Média geral dos alunos é de: 7.0\n"
     ]
    }
   ],
   "source": [
    "media_geral = notas_df['Média'].mean()\n",
    "\n",
    "print(f\"a Média geral dos alunos é de: {media_geral}\")"
   ]
  },
  {
   "cell_type": "markdown",
   "metadata": {},
   "source": [
    "## A maior média:"
   ]
  },
  {
   "cell_type": "code",
   "execution_count": 16,
   "metadata": {},
   "outputs": [
    {
     "name": "stdout",
     "output_type": "stream",
     "text": [
      "a maior média foi: 8.0\n"
     ]
    }
   ],
   "source": [
    "maior_media = notas_df['Média'].max()\n",
    "\n",
    "print(f\"a maior média foi: {maior_media}\")"
   ]
  }
 ],
 "metadata": {
  "kernelspec": {
   "display_name": "Python 3.10.5 64-bit (system)",
   "language": "python",
   "name": "python3"
  },
  "language_info": {
   "codemirror_mode": {
    "name": "ipython",
    "version": 3
   },
   "file_extension": ".py",
   "mimetype": "text/x-python",
   "name": "python",
   "nbconvert_exporter": "python",
   "pygments_lexer": "ipython3",
   "version": "3.10.5"
  },
  "orig_nbformat": 4,
  "vscode": {
   "interpreter": {
    "hash": "0a61789b1f2b735c2248c8938dc5870cf0dc7d6987a42fd040532f1aeebe9e79"
   }
  }
 },
 "nbformat": 4,
 "nbformat_minor": 2
}
